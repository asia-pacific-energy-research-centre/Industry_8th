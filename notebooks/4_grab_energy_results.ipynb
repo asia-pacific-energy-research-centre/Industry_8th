{
 "metadata": {
  "language_info": {
   "codemirror_mode": {
    "name": "ipython",
    "version": 3
   },
   "file_extension": ".py",
   "mimetype": "text/x-python",
   "name": "python",
   "nbconvert_exporter": "python",
   "pygments_lexer": "ipython3",
   "version": "3.7.8-final"
  },
  "orig_nbformat": 2,
  "kernelspec": {
   "name": "python3",
   "display_name": "Python 3",
   "language": "python"
  }
 },
 "nbformat": 4,
 "nbformat_minor": 2,
 "cells": [
  {
   "source": [
    "# Grab final results (Reference and Net Zero scenario)"
   ],
   "cell_type": "markdown",
   "metadata": {}
  },
  {
   "cell_type": "code",
   "execution_count": 1,
   "metadata": {},
   "outputs": [],
   "source": [
    "import pandas as pd\n",
    "import numpy as np\n",
    "import matplotlib.pyplot as plt\n",
    "import os\n",
    "from openpyxl import Workbook\n",
    "import xlsxwriter\n",
    "import pandas.io.formats.excel\n",
    "import glob\n",
    "from pandas import ExcelWriter"
   ]
  },
  {
   "cell_type": "code",
   "execution_count": 2,
   "metadata": {},
   "outputs": [],
   "source": [
    "# Requisite input\n",
    "\n",
    "economies = ['01_AUS', '02_BD', '03_CDA', '04_CHL', '05_PRC', '06_HKC',\n",
    "             '07_INA', '08_JPN', '09_ROK', '10_MAS', '11_MEX', '12_NZ',\n",
    "             '13_PNG', '14_PE', '15_RP', '16_RUS', '17_SIN', '18_CT', '19_THA',\n",
    "             '20_USA', '21_VN']\n",
    "\n",
    "years = list(map(str, range(2017, 2071, 1)))"
   ]
  },
  {
   "source": [
    "## Reference scenario"
   ],
   "cell_type": "markdown",
   "metadata": {}
  },
  {
   "cell_type": "code",
   "execution_count": 3,
   "metadata": {},
   "outputs": [],
   "source": [
    "# Read steel energy data results \n",
    "steel_results = pd.DataFrame()\n",
    "\n",
    "for economy in economies:\n",
    "    interim_df = pd.read_excel('../data/input_data/1_energy_results/1_steel_2018_workbook_ref.xlsx', skiprows = 129, \n",
    "                                usecols = list(range(62, 120, 1)), nrows = 161, sheet_name = economy)                                       \n",
    "    steel_results = steel_results.append(interim_df)\n",
    "\n",
    "steel_results_numeric = steel_results.iloc[:,4:].copy()\n",
    "\n",
    "non_zero = (steel_results_numeric != 0).any(axis = 1)\n",
    "\n",
    "steel_results = steel_results.loc[non_zero].reset_index(drop = True)\n",
    "\n",
    "steel_results.to_csv('../results/post_projection/1_steel_reference_scenario.csv', index = False)"
   ]
  },
  {
   "cell_type": "code",
   "execution_count": 4,
   "metadata": {},
   "outputs": [],
   "source": [
    "# Read chemical energy data results \n",
    "chem_results = pd.DataFrame()\n",
    "\n",
    "for economy in economies:\n",
    "    interim_df = pd.read_excel('../data/input_data/1_energy_results/2_chemicals_2018_workbook_ref.xlsx', skiprows = 61, \n",
    "                                usecols = list(range(62, 120, 1)), nrows = 97, sheet_name = economy)                                    \n",
    "    chem_results = chem_results.append(interim_df)\n",
    "\n",
    "chem_results_numeric = chem_results.iloc[:,4:].copy()\n",
    "\n",
    "non_zero = (chem_results_numeric != 0).any(axis = 1)\n",
    "\n",
    "chem_results = chem_results.loc[non_zero].reset_index(drop = True)\n",
    "\n",
    "chem_results.to_csv('../results/post_projection/2_chemicals_reference_scenario.csv', index = False)"
   ]
  },
  {
   "cell_type": "code",
   "execution_count": 5,
   "metadata": {},
   "outputs": [],
   "source": [
    "# Read cement energy data results \n",
    "cement_results = pd.DataFrame()\n",
    "\n",
    "for economy in economies:\n",
    "    interim_df = pd.read_excel('../data/input_data/1_energy_results/3_cement_2018_workbook_ref.xlsx', skiprows = 56, \n",
    "                                usecols = list(range(62, 120, 1)), nrows = 64, sheet_name = economy)                                    \n",
    "    cement_results = cement_results.append(interim_df)\n",
    "\n",
    "cement_results_numeric = cement_results.iloc[:,4:].copy()\n",
    "\n",
    "non_zero = (cement_results_numeric != 0).any(axis = 1)\n",
    "\n",
    "cement_results = cement_results.loc[non_zero].reset_index(drop = True)\n",
    "\n",
    "cement_results.to_csv('../results/post_projection/3_cement_reference_scenario.csv', index = False)"
   ]
  },
  {
   "cell_type": "code",
   "execution_count": 6,
   "metadata": {},
   "outputs": [],
   "source": [
    "# Read other industry energy data results \n",
    "other_results = pd.DataFrame()\n",
    "\n",
    "for economy in economies:\n",
    "    interim_df = pd.read_excel('../data/input_data/1_energy_results/4_other_industry_2018_workbook_ref.xlsx', skiprows = 15, \n",
    "                                usecols = list(range(61, 119, 1)), nrows = 320, sheet_name = economy)                               \n",
    "    other_results = other_results.append(interim_df)\n",
    "\n",
    "other_results_numeric = other_results.iloc[:,4:].copy()\n",
    "\n",
    "non_zero = (other_results_numeric != 0).any(axis = 1)\n",
    "\n",
    "other_results = other_results.loc[non_zero].reset_index(drop = True)\n",
    "\n",
    "other_results.to_csv('../results/post_projection/4_other_industry_reference_scenario.csv', index = False)"
   ]
  },
  {
   "cell_type": "code",
   "execution_count": 7,
   "metadata": {},
   "outputs": [],
   "source": [
    "# Read nonenergy data results \n",
    "nonenergy_results = pd.DataFrame()\n",
    "\n",
    "for economy in economies:\n",
    "    interim_df = pd.read_excel('../data/input_data/1_energy_results/5_nonenergy_2018_workbook_ref.xlsx', skiprows = 52, \n",
    "                                usecols = list(range(63, 122, 1)), nrows = 64, sheet_name = economy)                               \n",
    "    nonenergy_results = nonenergy_results.append(interim_df)\n",
    "\n",
    "nonenergy_results_numeric = nonenergy_results.iloc[:,4:].copy()\n",
    "\n",
    "non_zero = (nonenergy_results_numeric != 0).any(axis = 1)\n",
    "\n",
    "nonenergy_results = nonenergy_results.loc[non_zero].reset_index(drop = True)\n",
    "\n",
    "nonenergy_results.to_csv('../results/post_projection/5_nonenergy_reference_scenario.csv', index = False)"
   ]
  },
  {
   "cell_type": "code",
   "execution_count": 8,
   "metadata": {},
   "outputs": [],
   "source": [
    "# Join all reference scenarios together\n",
    "\n",
    "Industry_reference_scenario = pd.DataFrame()\n",
    "\n",
    "Industry_reference_scenario = Industry_reference_scenario.append(steel_results).append(chem_results).append(cement_results).append(other_results).append(nonenergy_results).reset_index(drop = True)\n",
    "Industry_reference_scenario['SCENARIO'] = 'Reference'\n",
    "Industry_reference_scenario = Industry_reference_scenario[['SCENARIO', 'REGION', 'FUEL'] + list(map(int, years))]\n",
    "\n",
    "Industry_reference_scenario.to_csv('../results/post_projection/0_industry_reference_scenario.csv', index = False)"
   ]
  },
  {
   "source": [
    "## Net zero scenario"
   ],
   "cell_type": "markdown",
   "metadata": {}
  },
  {
   "cell_type": "code",
   "execution_count": 9,
   "metadata": {},
   "outputs": [],
   "source": [
    "# Read steel energy data results \n",
    "steel_results_nz = pd.DataFrame()\n",
    "\n",
    "for economy in economies:\n",
    "    interim_df = pd.read_excel('../data/input_data/1_energy_results/1_steel_2018_workbook_nz.xlsx', skiprows = 129, \n",
    "                                usecols = list(range(62, 120, 1)), nrows = 161, sheet_name = economy)                                       \n",
    "    steel_results_nz = steel_results_nz.append(interim_df)\n",
    "\n",
    "steel_results_nz_numeric = steel_results_nz.iloc[:,4:].copy()\n",
    "\n",
    "non_zero = (steel_results_nz_numeric != 0).any(axis = 1)\n",
    "\n",
    "steel_results_nz = steel_results_nz.loc[non_zero].reset_index(drop = True)\n",
    "\n",
    "steel_results_nz.to_csv('../results/post_projection/1_steel_net_zero_scenario.csv', index = False)"
   ]
  },
  {
   "cell_type": "code",
   "execution_count": 10,
   "metadata": {},
   "outputs": [],
   "source": [
    "# Read chemical energy data results \n",
    "chem_results_nz = pd.DataFrame()\n",
    "\n",
    "for economy in economies:\n",
    "    interim_df = pd.read_excel('../data/input_data/1_energy_results/2_chemicals_2018_workbook_nz.xlsx', skiprows = 61, \n",
    "                                usecols = list(range(62, 120, 1)), nrows = 97, sheet_name = economy)                                    \n",
    "    chem_results_nz = chem_results_nz.append(interim_df)\n",
    "\n",
    "chem_results_nz_numeric = chem_results_nz.iloc[:,4:].copy()\n",
    "\n",
    "non_zero = (chem_results_nz_numeric != 0).any(axis = 1)\n",
    "\n",
    "chem_results_nz = chem_results_nz.loc[non_zero].reset_index(drop = True)\n",
    "\n",
    "chem_results_nz.to_csv('../results/post_projection/2_chemicals_net_zero_scenario.csv', index = False)"
   ]
  },
  {
   "cell_type": "code",
   "execution_count": 11,
   "metadata": {},
   "outputs": [],
   "source": [
    "# Read cement energy data results \n",
    "cement_results_nz = pd.DataFrame()\n",
    "\n",
    "for economy in economies:\n",
    "    interim_df = pd.read_excel('../data/input_data/1_energy_results/3_cement_2018_workbook_nz.xlsx', skiprows = 56, \n",
    "                                usecols = list(range(62, 120, 1)), nrows = 64, sheet_name = economy)                                    \n",
    "    cement_results_nz = cement_results_nz.append(interim_df)\n",
    "\n",
    "cement_results_nz_numeric = cement_results_nz.iloc[:,4:].copy()\n",
    "\n",
    "non_zero = (cement_results_nz_numeric != 0).any(axis = 1)\n",
    "\n",
    "cement_results_nz = cement_results_nz.loc[non_zero].reset_index(drop = True)\n",
    "\n",
    "cement_results_nz.to_csv('../results/post_projection/3_cement_net_zero_scenario.csv', index = False)"
   ]
  },
  {
   "cell_type": "code",
   "execution_count": 12,
   "metadata": {},
   "outputs": [],
   "source": [
    "# Read other industry energy data results \n",
    "other_results_nz = pd.DataFrame()\n",
    "\n",
    "for economy in economies:\n",
    "    interim_df = pd.read_excel('../data/input_data/1_energy_results/4_other_industry_2018_workbook_nz.xlsx', skiprows = 15, \n",
    "                                usecols = list(range(61, 119, 1)), nrows = 320, sheet_name = economy)                               \n",
    "    other_results_nz = other_results_nz.append(interim_df)\n",
    "\n",
    "other_results_nz_numeric = other_results_nz.iloc[:,4:].copy()\n",
    "\n",
    "non_zero = (other_results_nz_numeric != 0).any(axis = 1)\n",
    "\n",
    "other_results_nz = other_results_nz.loc[non_zero].reset_index(drop = True)\n",
    "\n",
    "other_results_nz.to_csv('../results/post_projection/4_other_industry_net_zero_scenario.csv', index = False)"
   ]
  },
  {
   "cell_type": "code",
   "execution_count": 13,
   "metadata": {},
   "outputs": [],
   "source": [
    "# Read nonenergy data results \n",
    "nonenergy_results_nz = pd.DataFrame()\n",
    "\n",
    "for economy in economies:\n",
    "    interim_df = pd.read_excel('../data/input_data/1_energy_results/5_nonenergy_2018_workbook_nz.xlsx', skiprows = 52, \n",
    "                                usecols = list(range(63, 122, 1)), nrows = 64, sheet_name = economy)                               \n",
    "    nonenergy_results_nz = nonenergy_results_nz.append(interim_df)\n",
    "\n",
    "nonenergy_results_nz_numeric = nonenergy_results_nz.iloc[:,4:].copy()\n",
    "\n",
    "non_zero = (nonenergy_results_nz_numeric != 0).any(axis = 1)\n",
    "\n",
    "nonenergy_results_nz = nonenergy_results_nz.loc[non_zero].reset_index(drop = True)\n",
    "\n",
    "nonenergy_results_nz.to_csv('../results/post_projection/5_nonenergy_net_zero_scenario.csv', index = False)"
   ]
  },
  {
   "cell_type": "code",
   "execution_count": 14,
   "metadata": {},
   "outputs": [],
   "source": [
    "# Join all NET ZERO scenarios together\n",
    "\n",
    "Industry_nz_scenario = pd.DataFrame()\n",
    "\n",
    "Industry_nz_scenario = Industry_nz_scenario.append(steel_results_nz).append(chem_results_nz).append(cement_results_nz).append(other_results_nz).append(nonenergy_results_nz).reset_index(drop = True)\n",
    "Industry_nz_scenario['SCENARIO'] = 'Net-zero'\n",
    "Industry_nz_scenario = Industry_nz_scenario[['SCENARIO', 'REGION', 'FUEL'] + list(map(int, years))]\n",
    "\n",
    "Industry_nz_scenario.to_csv('../results/post_projection/0_industry_net_zero_scenario.csv', index = False)"
   ]
  },
  {
   "cell_type": "code",
   "execution_count": 15,
   "metadata": {},
   "outputs": [],
   "source": [
    "# Join REFERENCE and NET ZERO scenario together\n",
    "\n",
    "Industry_both_scenario = Industry_reference_scenario.append(Industry_nz_scenario).reset_index(drop = True)\n",
    "\n",
    "Industry_both_scenario.to_csv('../results/post_projection/0_industry_both_scenarios.csv', index = False)"
   ]
  }
 ]
}