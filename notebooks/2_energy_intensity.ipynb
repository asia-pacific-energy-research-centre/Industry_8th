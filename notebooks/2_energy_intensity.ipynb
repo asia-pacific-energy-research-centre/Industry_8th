{
 "metadata": {
  "language_info": {
   "codemirror_mode": {
    "name": "ipython",
    "version": 3
   },
   "file_extension": ".py",
   "mimetype": "text/x-python",
   "name": "python",
   "nbconvert_exporter": "python",
   "pygments_lexer": "ipython3",
   "version": 3
  },
  "orig_nbformat": 2
 },
 "nbformat": 4,
 "nbformat_minor": 2,
 "cells": [
  {
   "source": [
    "## Grab 2017 energy data for each industry subsector and economy"
   ],
   "cell_type": "markdown",
   "metadata": {}
  },
  {
   "cell_type": "code",
   "execution_count": null,
   "metadata": {},
   "outputs": [],
   "source": [
    "import pandas as pd\n",
    "import numpy as np\n",
    "import matplotlib.pyplot as plt\n",
    "import os\n",
    "from openpyxl import Workbook\n",
    "import xlsxwriter\n",
    "import pandas.io.formats.excel\n",
    "import glob\n",
    "from pandas import ExcelWriter"
   ]
  },
  {
   "cell_type": "code",
   "execution_count": null,
   "metadata": {},
   "outputs": [],
   "source": [
    "# Load data frames\n",
    "\n",
    "EGEDA_years = pd.read_csv('../data/input_data/EGEDA_to2017.csv')"
   ]
  },
  {
   "cell_type": "code",
   "execution_count": null,
   "metadata": {},
   "outputs": [],
   "source": [
    "# Required things\n",
    "\n",
    "EGEDA_industry = ['13_industry_sector', '13_1_iron_and_steel', '13_2_chemical_incl__petrochemical', '13_3_nonferrous_metals', '13_4_nonmetallic_mineral_products', '13_5_transportation_equipment',\n",
    "                  '13_6_machinery', '13_7_mining_and_quarrying', '13_8_food_beverages_and_tobacco', '13_9_pulp_paper_and_printing', '13_10_wood_and_wood_products', '13_11_construction',\n",
    "                  '13_12_textiles_and_leather', '13_13_nonspecified_industry']\n",
    "\n",
    "# Economy vector\n",
    "economies = EGEDA_years['economy'].unique()"
   ]
  },
  {
   "cell_type": "code",
   "execution_count": null,
   "metadata": {},
   "outputs": [],
   "source": [
    "##################################### Build workbook with 2017 energy use for subsectors #####################################\n",
    "\n",
    "# Define directory where to save the workbook\n",
    "script_dir = '../results/'\n",
    "results_dir = os.path.join(script_dir, 'initial_look/')\n",
    "if not os.path.isdir(results_dir):\n",
    "    os.makedirs(results_dir)\n",
    "\n",
    "# Create a pandas ExcelWriter workbook using xlsxwriter as the engine and save it to the directory created above\n",
    "\n",
    "writer = pd.ExcelWriter(results_dir + 'energy_intensity_2017_workbook.xlsx', engine = 'xlsxwriter')\n",
    "pandas.io.formats.excel.ExcelFormatter.header_style = None\n",
    "\n",
    "# Build workbook\n",
    "\n",
    "for economy in economies:\n",
    "    economy_df = EGEDA_years[(EGEDA_years['economy'] == economy)].copy().reset_index(drop = True)['economy', 'fuel_code', 'item_code_new'. 2017]\n",
    "\n",
    "    # place the dataframes within the initial look workbook\n",
    "    economy_df.to_excel(writer, sheet_name = economy, index = False, startrow = 0)\n",
    "\n",
    "writer.save()"
   ]
  }
 ]
}