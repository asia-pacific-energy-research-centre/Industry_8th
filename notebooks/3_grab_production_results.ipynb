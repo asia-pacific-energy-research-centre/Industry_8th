{
 "metadata": {
  "language_info": {
   "codemirror_mode": {
    "name": "ipython",
    "version": 3
   },
   "file_extension": ".py",
   "mimetype": "text/x-python",
   "name": "python",
   "nbconvert_exporter": "python",
   "pygments_lexer": "ipython3",
   "version": "3.7.8-final"
  },
  "orig_nbformat": 2,
  "kernelspec": {
   "name": "python3",
   "display_name": "Python 3"
  }
 },
 "nbformat": 4,
 "nbformat_minor": 2,
 "cells": [
  {
   "source": [
    "## Grab production results"
   ],
   "cell_type": "markdown",
   "metadata": {}
  },
  {
   "cell_type": "code",
   "execution_count": 1,
   "metadata": {},
   "outputs": [],
   "source": [
    "import pandas as pd\n",
    "import numpy as np\n",
    "import matplotlib.pyplot as plt\n",
    "import os\n",
    "from openpyxl import Workbook\n",
    "import xlsxwriter\n",
    "import pandas.io.formats.excel\n",
    "import glob\n",
    "from pandas import ExcelWriter"
   ]
  },
  {
   "cell_type": "code",
   "execution_count": 2,
   "metadata": {},
   "outputs": [],
   "source": [
    "# Requisite input\n",
    "\n",
    "economies = ['01_AUS', '02_BD', '03_CDA', '04_CHL', '05_PRC', '06_HKC',\n",
    "             '07_INA', '08_JPN', '09_ROK', '10_MAS', '11_MEX', '12_NZ',\n",
    "             '13_PNG', '14_PE', '15_RP', '16_RUS', '17_SIN', '18_CT', '19_THA',\n",
    "             '20_USA', '21_VN']\n",
    "\n",
    "historical_years = list(map(str, range(2008, 2018, 1)))\n",
    "future_years = list(map(str, range(2017, 2051, 1)))"
   ]
  },
  {
   "cell_type": "code",
   "execution_count": 3,
   "metadata": {},
   "outputs": [],
   "source": [
    "# Read historcial data from projection results to work with for energy intensities\n",
    "\n",
    "production_data = pd.DataFrame()\n",
    "\n",
    "for economy in economies:\n",
    "    interim_df = pd.read_excel('../data/input_data/0_production_results/production_projection_workbook.xlsx', skiprows = 4, nrows = 14, sheet_name = economy)\n",
    "    transport = interim_df[interim_df['item_code_new'] == '13_5_transportation_equipment']\n",
    "    not_transport = interim_df[interim_df['item_code_new'] != '13_5_transportation_equipment']\n",
    "    agg_transport = transport.groupby(['economy', 'unit', 'item_code_new']).sum().assign(item = '8th_transport_production_projection').reset_index()\n",
    "    interim_df = not_transport.append(agg_transport).reset_index(drop = True)\n",
    "    interim_df['item_code_new'] = pd.Categorical(interim_df['item_code_new'], ['13_1_iron_and_steel',\n",
    "                                             '13_2_chemical_incl__petrochemical',\n",
    "                                             '13_3_nonferrous_metals',\n",
    "                                             '13_4_nonmetallic_mineral_products', \n",
    "                                             '13_5_transportation_equipment', \n",
    "                                             '13_6_machinery', \n",
    "                                             '13_7_mining_and_quarrying',\n",
    "                                             '13_8_food_beverages_and_tobacco', \n",
    "                                             '13_9_pulp_paper_and_printing', \n",
    "                                             '13_10_wood_and_wood_products',\n",
    "                                             '13_11_construction',\n",
    "                                             '13_12_textiles_and_leather',\n",
    "                                             '13_13_nonspecified_industry'])\n",
    "    interim_df = interim_df.sort_values('item_code_new')                                         \n",
    "    production_data = production_data.append(interim_df)\n",
    "\n",
    "production_data_historical = production_data.dropna(subset = ['economy']).reset_index(drop = True).reindex(columns = ['economy', 'item', 'unit', 'item_code_new'] + historical_years)\n",
    "\n",
    "production_data_historical.to_csv('../results/post_projection/production_historical.csv', index = False)\n",
    "\n",
    "production_data_estimates = production_data.dropna(subset = ['economy']).reset_index(drop = True).reindex(columns = ['economy', 'item', 'unit', 'item_code_new'] + future_years)\n",
    "\n",
    "production_data_estimates.to_csv('../results/post_projection/production_estimates.csv', index = False)"
   ]
  }
 ]
}