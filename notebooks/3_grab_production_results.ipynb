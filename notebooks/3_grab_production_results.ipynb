{
 "metadata": {
  "language_info": {
   "codemirror_mode": {
    "name": "ipython",
    "version": 3
   },
   "file_extension": ".py",
   "mimetype": "text/x-python",
   "name": "python",
   "nbconvert_exporter": "python",
   "pygments_lexer": "ipython3",
   "version": "3.7.8-final"
  },
  "orig_nbformat": 2,
  "kernelspec": {
   "name": "python3",
   "display_name": "Python 3"
  }
 },
 "nbformat": 4,
 "nbformat_minor": 2,
 "cells": [
  {
   "source": [
    "## Grab production results"
   ],
   "cell_type": "markdown",
   "metadata": {}
  },
  {
   "cell_type": "code",
   "execution_count": 4,
   "metadata": {},
   "outputs": [],
   "source": [
    "import pandas as pd\n",
    "import numpy as np\n",
    "import matplotlib.pyplot as plt\n",
    "import os\n",
    "from openpyxl import Workbook\n",
    "import xlsxwriter\n",
    "import pandas.io.formats.excel\n",
    "import glob\n",
    "from pandas import ExcelWriter"
   ]
  },
  {
   "cell_type": "code",
   "execution_count": 2,
   "metadata": {},
   "outputs": [],
   "source": [
    "# Requisite input\n",
    "\n",
    "economies = ['01_AUS', '02_BD', '03_CDA', '04_CHL', '05_PRC', '06_HKC',\n",
    "             '07_INA', '08_JPN', '09_ROK', '10_MAS', '11_MEX', '12_NZ',\n",
    "             '13_PNG', '14_PE', '15_RP', '16_RUS', '17_SIN', '18_CT', '19_THA',\n",
    "             '20_USA', '21_VN']"
   ]
  },
  {
   "cell_type": "code",
   "execution_count": null,
   "metadata": {},
   "outputs": [],
   "source": [
    "# Read data from projection results\n",
    "\n",
    "production_data = pd.DataFrame()\n",
    "\n",
    "for economy in economies:\n",
    "    pd.read"
   ]
  }
 ]
}